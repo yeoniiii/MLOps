{
 "cells": [
  {
   "cell_type": "code",
   "execution_count": 1,
   "id": "f6c8b59a-5a05-465b-9a31-70efea599514",
   "metadata": {},
   "outputs": [],
   "source": [
    "import pandas as pd\n",
    "import numpy as np\n",
    "from sklearn.ensemble import RandomForestClassifier\n",
    "import pickle as pkl"
   ]
  },
  {
   "cell_type": "code",
   "execution_count": null,
   "id": "17d1e8ff-8d55-4909-a92c-4bf427e4a47b",
   "metadata": {},
   "outputs": [],
   "source": [
    "trans = pkl.load(open(\"trans.pkl\",\"rb\"))\n",
    "model = pkl.load(open(\"model.pkl\",\"rb\"))"
   ]
  },
  {
   "cell_type": "code",
   "execution_count": null,
   "id": "7e1b6dc7-335a-420f-81d2-d5d168a3d996",
   "metadata": {},
   "outputs": [],
   "source": [
    "test = pd.read_csv(\"test.csv\")\n",
    "test.head(2)"
   ]
  },
  {
   "cell_type": "code",
   "execution_count": null,
   "id": "9227b668-4e77-4da4-9460-75a67c1b6a24",
   "metadata": {},
   "outputs": [],
   "source": [
    "x_cols = ['V'+str(i) for i in range(1,28)]"
   ]
  },
  {
   "cell_type": "code",
   "execution_count": null,
   "id": "14f58add-f1e7-4a79-a523-eadb9bd606a5",
   "metadata": {},
   "outputs": [],
   "source": [
    "test_x = trans.transform(test[x_cols])\n",
    "test_pred = model.predict(test_x)\n",
    "test_pred"
   ]
  }
 ],
 "metadata": {
  "kernelspec": {
   "display_name": "Python 3.8.19 ('MLOps')",
   "language": "python",
   "name": "python3"
  },
  "language_info": {
   "codemirror_mode": {
    "name": "ipython",
    "version": 3
   },
   "file_extension": ".py",
   "mimetype": "text/x-python",
   "name": "python",
   "nbconvert_exporter": "python",
   "pygments_lexer": "ipython3",
   "version": "3.8.19"
  },
  "vscode": {
   "interpreter": {
    "hash": "2f13aeb8b86fde212a377ec607eb85d0f8352caef77bf26b53c436968f93b1cb"
   }
  }
 },
 "nbformat": 4,
 "nbformat_minor": 5
}
