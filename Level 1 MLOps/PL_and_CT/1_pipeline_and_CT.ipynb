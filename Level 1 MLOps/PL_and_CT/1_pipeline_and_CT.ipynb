{
 "cells": [
  {
   "cell_type": "code",
   "execution_count": null,
   "id": "a0818643-f295-4a6b-837b-81bb60df0472",
   "metadata": {},
   "outputs": [],
   "source": [
    "import numpy as np\n",
    "import pandas as pd\n",
    "import pickle as pkl\n",
    "\n",
    "\n",
    "from sklearn.compose import ColumnTransformer, make_column_selector\n",
    "from sklearn.pipeline import Pipeline\n",
    "from sklearn.preprocessing import StandardScaler, OneHotEncoder\n",
    "from sklearn.impute import SimpleImputer\n",
    "\n",
    "from sklearn.ensemble import RandomForestClassifier\n",
    "from catboost.datasets import titanic"
   ]
  },
  {
   "cell_type": "code",
   "execution_count": null,
   "id": "7de71de4-8267-4290-b164-d94dfc33a35a",
   "metadata": {},
   "outputs": [],
   "source": [
    "## numerical column imputation ##\n",
    "\n",
    "pipe1 = Pipeline([\n",
    "    ('num_step1',   SimpleImputer(strategy=\"mean\") ),\n",
    "    ('num_step2',   StandardScaler()  ),\n",
    "])"
   ]
  },
  {
   "cell_type": "code",
   "execution_count": null,
   "id": "d7ce0e0b-72ad-42c6-b6ed-75ef99bd2965",
   "metadata": {},
   "outputs": [],
   "source": [
    "## categorical column imputation ##\n",
    "\n",
    "pipe2 = Pipeline([\n",
    "    ('cat_step1',   SimpleImputer(strategy=\"most_frequent\") ),\n",
    "    ('cat_step2',   OneHotEncoder()  ),\n",
    "])"
   ]
  },
  {
   "cell_type": "code",
   "execution_count": null,
   "id": "fe0d375c-83ba-44b4-8bb6-17d5416d5eb3",
   "metadata": {},
   "outputs": [],
   "source": [
    "## Column transformer ##\n",
    "\n",
    "transform = ColumnTransformer([\n",
    "    ('num',  pipe1,  make_column_selector(dtype_include=np.number)),\n",
    "    ('cat',  pipe2,  make_column_selector(dtype_exclude=np.number)),\n",
    "])"
   ]
  },
  {
   "cell_type": "code",
   "execution_count": null,
   "id": "f4cd1ed8-cb00-4930-8627-47640707297a",
   "metadata": {},
   "outputs": [],
   "source": [
    "## model pipeline ##\n",
    "\n",
    "pipe0 = Pipeline([\n",
    "    ('transform',  transform     ),\n",
    "    ('model',      RandomForestClassifier()    )\n",
    "])"
   ]
  },
  {
   "cell_type": "code",
   "execution_count": null,
   "id": "3f3ced2d-c76c-47cb-bedc-ac5f78bab05c",
   "metadata": {},
   "outputs": [],
   "source": [
    "train, _ = titanic()"
   ]
  },
  {
   "cell_type": "code",
   "execution_count": null,
   "id": "a422cba9-150c-477a-a7b6-3ab868bbe51b",
   "metadata": {},
   "outputs": [],
   "source": [
    "ycol = \"Survived\"\n",
    "xcol = [col for col in train.columns if col not in [ycol]]"
   ]
  },
  {
   "cell_type": "code",
   "execution_count": null,
   "id": "d0aa1a77-4883-4526-a0ec-d99564795446",
   "metadata": {},
   "outputs": [],
   "source": [
    "pipe.fit(train[xcol],train[ycol])"
   ]
  },
  {
   "cell_type": "code",
   "execution_count": null,
   "id": "f47381ba-5a96-497f-80d0-102c1f05f57f",
   "metadata": {},
   "outputs": [],
   "source": [
    "pipe.predict(train[xcol])"
   ]
  },
  {
   "cell_type": "code",
   "execution_count": null,
   "id": "455abaa8-b0d6-42d3-afd5-9da1f9f1d0df",
   "metadata": {},
   "outputs": [],
   "source": [
    "with open(\"ml_pipeline.pkl\",\"wb\") as f:\n",
    "    pkl.dump(pipe0,f)"
   ]
  }
 ],
 "metadata": {
  "kernelspec": {
   "display_name": "Python 3.8.19 ('MLOps')",
   "language": "python",
   "name": "python3"
  },
  "language_info": {
   "codemirror_mode": {
    "name": "ipython",
    "version": 3
   },
   "file_extension": ".py",
   "mimetype": "text/x-python",
   "name": "python",
   "nbconvert_exporter": "python",
   "pygments_lexer": "ipython3",
   "version": "3.8.19"
  },
  "vscode": {
   "interpreter": {
    "hash": "2f13aeb8b86fde212a377ec607eb85d0f8352caef77bf26b53c436968f93b1cb"
   }
  }
 },
 "nbformat": 4,
 "nbformat_minor": 5
}
