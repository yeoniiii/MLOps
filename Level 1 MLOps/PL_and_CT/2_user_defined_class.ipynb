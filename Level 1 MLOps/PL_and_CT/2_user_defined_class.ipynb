{
 "cells": [
  {
   "cell_type": "code",
   "execution_count": null,
   "id": "0dca2001-b71b-4907-b230-2f67b22192f7",
   "metadata": {},
   "outputs": [],
   "source": [
    "from sklearn.base import BaseEstimator, TransformerMixin"
   ]
  },
  {
   "cell_type": "code",
   "execution_count": null,
   "id": "f078bb97-826a-48e4-86e8-4a132820ffda",
   "metadata": {},
   "outputs": [],
   "source": [
    "# ## class templete for building pipeline component ##\n",
    "\n",
    "# class class_name(BaseEstimator, TransformerMixin):\n",
    "#     def __init__(self):\n",
    "        \n",
    "#     def fit(self, X, y=None):\n",
    "#         return self\n",
    "    \n",
    "#     def predict(self, X):\n",
    "#         result = ...\n",
    "#         return result\n",
    "\n",
    "#     def transform(self, X):\n",
    "#         result = ...\n",
    "#         return result"
   ]
  },
  {
   "cell_type": "code",
   "execution_count": null,
   "id": "2a16ecdd-81b3-4036-b8d3-36fd163b4bbd",
   "metadata": {},
   "outputs": [],
   "source": [
    "class numeric_filtering(BaseEstimator, TransformerMixin):\n",
    "    def fit(self, X, y=None):\n",
    "        self.constant_col = [i for i in range(X.shape[1]) if X[:,i].std()==0]\n",
    "        self.id_col = [i for i in range(X.shape[1]) if len(np.unique(np.diff(X[:,i])))==1]\n",
    "        self.rm_cols = self.constant_col + self.id_col\n",
    "        self.final_cols = [i for i in range(X.shape[1]) if i not in self.rm_cols]\n",
    "        return self\n",
    "    \n",
    "    def transform(self, X):\n",
    "        result = X[:,self.final_cols]\n",
    "        return result"
   ]
  },
  {
   "cell_type": "code",
   "execution_count": null,
   "id": "2e844793-e690-4e75-bdd5-b170eb8e8269",
   "metadata": {},
   "outputs": [],
   "source": [
    "class categorical_filtering(BaseEstimator, TransformerMixin):\n",
    "    def fit(self, X, y=None):\n",
    "        self.constant_col = [i for i in range(X.shape[1]) if len(np.unique(X[:,i]))==1]\n",
    "        self.id_col = [i for i in range(X.shape[1]) if len(np.unique(X[:,i]))==X.shape[0]]\n",
    "        self.cardinality = [i for i in range(X.shape[1]) if len(np.unique(X[:,i])) > 50]\n",
    "        self.rm_cols = self.constant_col + self.id_col + self.cardinality\n",
    "        self.final_cols = [i for i in range(X.shape[1]) if i not in self.rm_cols]\n",
    "        return self\n",
    "    \n",
    "    def transform(self, X):\n",
    "        result = X[:,self.final_cols]\n",
    "        return result"
   ]
  },
  {
   "cell_type": "code",
   "execution_count": null,
   "id": "3d3d76df-239e-4bfa-90b9-55c02c2f1ce5",
   "metadata": {},
   "outputs": [],
   "source": [
    "import numpy as np\n",
    "import pandas as pd\n",
    "import pickle as pkl\n",
    "\n",
    "from sklearn.compose import ColumnTransformer, make_column_selector\n",
    "from sklearn.pipeline import Pipeline\n",
    "from sklearn.preprocessing import StandardScaler, OneHotEncoder\n",
    "from sklearn.impute import SimpleImputer\n",
    "\n",
    "from sklearn.ensemble import RandomForestClassifier\n",
    "from catboost.datasets import titanic\n"
   ]
  },
  {
   "cell_type": "code",
   "execution_count": null,
   "id": "c4a23ee9-d27d-4af8-a3d3-1518a6590d02",
   "metadata": {},
   "outputs": [],
   "source": [
    "## numerical column imputation ##\n",
    "\n",
    "pipe1 = Pipeline([\n",
    "    ('num_step1', SimpleImputer(strategy=\"mean\") ),\n",
    "    ('num_step2', numeric_filtering() ),\n",
    "    ('num_step3', StandardScaler()  ),\n",
    "])"
   ]
  },
  {
   "cell_type": "code",
   "execution_count": null,
   "id": "f93f718e-0236-445f-9db9-bc6a91b83f1f",
   "metadata": {},
   "outputs": [],
   "source": [
    "## categorical column imputation ##\n",
    "\n",
    "pipe2 = Pipeline([\n",
    "    ('cat_step1', SimpleImputer(strategy=\"most_frequent\") ),\n",
    "    ('cat_step2', categorical_filtering() ),\n",
    "    ('cat_step3', OneHotEncoder()  ),\n",
    "])"
   ]
  },
  {
   "cell_type": "code",
   "execution_count": null,
   "id": "c7fe19ff-0910-48c8-ad49-c8228e482d02",
   "metadata": {},
   "outputs": [],
   "source": [
    "## Column transformer ##\n",
    "\n",
    "transform = ColumnTransformer([\n",
    "    ('num',  pipe1,  make_column_selector(dtype_include=np.number)),\n",
    "    ('cat',  pipe2,  make_column_selector(dtype_exclude=np.number)),\n",
    "])"
   ]
  },
  {
   "cell_type": "code",
   "execution_count": null,
   "id": "2193f7f1-2e15-4fe2-b99b-d5df02c5e4e6",
   "metadata": {},
   "outputs": [],
   "source": [
    "## model pipeline ##\n",
    "\n",
    "pipe0 = Pipeline([\n",
    "    ('transform',  transform     ),\n",
    "    ('model',      RandomForestClassifier()    )\n",
    "])"
   ]
  },
  {
   "cell_type": "code",
   "execution_count": null,
   "id": "12534cf3-b481-4882-8844-a86af01e5e0e",
   "metadata": {},
   "outputs": [],
   "source": [
    "train, _ = titanic()"
   ]
  },
  {
   "cell_type": "code",
   "execution_count": null,
   "id": "c58a3e11-ba04-45e5-bae9-563bb3b203af",
   "metadata": {},
   "outputs": [],
   "source": [
    "ycol = \"Survived\"\n",
    "xcol = [col for col in train.columns if col not in [ycol]]"
   ]
  },
  {
   "cell_type": "code",
   "execution_count": null,
   "id": "3ba6d4e1-94b8-41b2-8e71-7c54f7fc7396",
   "metadata": {},
   "outputs": [],
   "source": [
    "pipe0.fit(train[xcol],train[ycol])"
   ]
  },
  {
   "cell_type": "code",
   "execution_count": null,
   "id": "5a4c2602-c8a0-4a06-bfdc-9a76cabf5c94",
   "metadata": {},
   "outputs": [],
   "source": [
    "pipe0.predict(train[xcol])"
   ]
  },
  {
   "cell_type": "code",
   "execution_count": null,
   "id": "6ff418aa-d384-4533-ba66-5c4bb5c82267",
   "metadata": {},
   "outputs": [],
   "source": [
    "with open(\"ml_pipeline.pkl\",\"wb\") as f:\n",
    "    pkl.dump(pipe0,f)"
   ]
  }
 ],
 "metadata": {
  "kernelspec": {
   "display_name": "Python 3.8.19 ('MLOps')",
   "language": "python",
   "name": "python3"
  },
  "language_info": {
   "codemirror_mode": {
    "name": "ipython",
    "version": 3
   },
   "file_extension": ".py",
   "mimetype": "text/x-python",
   "name": "python",
   "nbconvert_exporter": "python",
   "pygments_lexer": "ipython3",
   "version": "3.8.19"
  },
  "vscode": {
   "interpreter": {
    "hash": "2f13aeb8b86fde212a377ec607eb85d0f8352caef77bf26b53c436968f93b1cb"
   }
  }
 },
 "nbformat": 4,
 "nbformat_minor": 5
}
