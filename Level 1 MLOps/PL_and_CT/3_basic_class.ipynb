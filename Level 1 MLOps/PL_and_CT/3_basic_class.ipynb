{
 "cells": [
  {
   "cell_type": "code",
   "execution_count": null,
   "id": "40cbc033-3f31-4f76-b953-ad3ff3ede80a",
   "metadata": {},
   "outputs": [],
   "source": [
    "import pandas as pd\n",
    "import numpy as np"
   ]
  },
  {
   "cell_type": "code",
   "execution_count": null,
   "id": "0add14bf-fa91-4614-8917-56e2666d7f9e",
   "metadata": {},
   "outputs": [],
   "source": [
    "class example:\n",
    "    def __init__(self, parm):\n",
    "        self.parm = parm\n",
    "        \n",
    "    def functions1(self, x):\n",
    "        self.result = self.parm*x\n",
    "        return self.result\n",
    "    \n",
    "    def func2(self, y):\n",
    "        tmp = self.parm + self.result\n",
    "        return tmp*y"
   ]
  },
  {
   "cell_type": "code",
   "execution_count": null,
   "id": "fff6433c-d7ce-4c49-b9d5-b20d2a567810",
   "metadata": {},
   "outputs": [],
   "source": [
    "model = example(3)"
   ]
  },
  {
   "cell_type": "code",
   "execution_count": null,
   "id": "c01d6457-c3a2-4b89-ab03-1805dfb28ef3",
   "metadata": {},
   "outputs": [],
   "source": [
    "model.functions1(20)"
   ]
  },
  {
   "cell_type": "code",
   "execution_count": null,
   "id": "6417df6b-d696-49a9-82f4-d7a4179f462b",
   "metadata": {},
   "outputs": [],
   "source": [
    "model.functions1(15)"
   ]
  },
  {
   "cell_type": "code",
   "execution_count": null,
   "id": "e6f03663-3a2c-462d-8457-d5a16e5cf2a5",
   "metadata": {},
   "outputs": [],
   "source": [
    "model.func2(5)"
   ]
  },
  {
   "cell_type": "code",
   "execution_count": null,
   "id": "05722445-e636-4423-92a2-5f4a8a999085",
   "metadata": {},
   "outputs": [],
   "source": [
    "# self.parm 3\n",
    "# self.result 3*15\n",
    "# (3+45)*5"
   ]
  }
 ],
 "metadata": {
  "kernelspec": {
   "display_name": "Python 3.8.19 ('MLOps')",
   "language": "python",
   "name": "python3"
  },
  "language_info": {
   "codemirror_mode": {
    "name": "ipython",
    "version": 3
   },
   "file_extension": ".py",
   "mimetype": "text/x-python",
   "name": "python",
   "nbconvert_exporter": "python",
   "pygments_lexer": "ipython3",
   "version": "3.8.19"
  },
  "vscode": {
   "interpreter": {
    "hash": "2f13aeb8b86fde212a377ec607eb85d0f8352caef77bf26b53c436968f93b1cb"
   }
  }
 },
 "nbformat": 4,
 "nbformat_minor": 5
}
