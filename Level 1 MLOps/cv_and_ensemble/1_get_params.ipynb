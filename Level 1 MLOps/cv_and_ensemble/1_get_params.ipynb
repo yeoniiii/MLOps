{
 "cells": [
  {
   "cell_type": "code",
   "execution_count": null,
   "id": "1a4b0566-415d-4fd1-b4fa-33fd2d63c945",
   "metadata": {},
   "outputs": [],
   "source": [
    "!pip install catboost"
   ]
  },
  {
   "cell_type": "code",
   "execution_count": null,
   "id": "f4897c4a-faa7-465b-a8ac-bfeb95444b9d",
   "metadata": {},
   "outputs": [],
   "source": [
    "import pandas as pd\n",
    "import numpy as np\n",
    "from sklearn.ensemble import RandomForestClassifier\n",
    "from catboost.datasets import titanic\n",
    "from library1 import *"
   ]
  },
  {
   "cell_type": "code",
   "execution_count": null,
   "id": "0f59a5ac-9dac-462f-8b59-0bf0087e17e2",
   "metadata": {},
   "outputs": [],
   "source": [
    "train, test = titanic()\n",
    "xcols = test.columns.tolist()\n",
    "ycol = \"Survived\""
   ]
  },
  {
   "cell_type": "code",
   "execution_count": null,
   "id": "3d696058-7c1e-4907-8579-3d0f8fe151bf",
   "metadata": {},
   "outputs": [],
   "source": [
    "pipe1 = Pipeline([\n",
    "    ('step1',   SimpleImputer(strategy=\"mean\") ),\n",
    "    ('step2',   numeric_filtering()  ),\n",
    "    ('step3',   StandardScaler()  ),\n",
    "]) \n",
    "\n",
    "pipe2 = Pipeline([\n",
    "    ('step1',   SimpleImputer(strategy=\"most_frequent\") ),\n",
    "    ('step2',   categorical_filtering()  ),\n",
    "    ('step3',   OneHotEncoder()  ),\n",
    "])\n",
    "\n",
    "transform = ColumnTransformer([\n",
    "    ('num',  pipe1,  make_column_selector(dtype_include=np.number)),\n",
    "    ('cat',  pipe2,  make_column_selector(dtype_exclude=np.number)),\n",
    "])\n",
    "\n",
    "pipe = Pipeline([\n",
    "    ('transform',  transform ),\n",
    "    ('model',      RandomForestClassifier() ),\n",
    "])      "
   ]
  },
  {
   "cell_type": "code",
   "execution_count": null,
   "id": "5c3ed0c5-bcf9-4671-86c5-95d95b8ed420",
   "metadata": {},
   "outputs": [],
   "source": [
    "pipe.get_params()"
   ]
  },
  {
   "cell_type": "code",
   "execution_count": null,
   "id": "3a5592bb-e67f-489e-9261-07288f945562",
   "metadata": {},
   "outputs": [],
   "source": [
    "pipe.get_params()['model__n_estimators']"
   ]
  },
  {
   "cell_type": "code",
   "execution_count": null,
   "id": "da886d18-4d4f-4031-b872-ec804eee5a02",
   "metadata": {},
   "outputs": [],
   "source": [
    "parm = {'model__n_estimators':50}\n",
    "pipe.set_params(**parm)\n",
    "pipe.fit(train[xcols], train[ycol])"
   ]
  },
  {
   "cell_type": "code",
   "execution_count": null,
   "id": "bbc82548-2434-49f6-bbba-1c3e14534c51",
   "metadata": {},
   "outputs": [],
   "source": [
    "pipe.get_params()['model__n_estimators']"
   ]
  }
 ],
 "metadata": {
  "kernelspec": {
   "display_name": "Python 3",
   "language": "python",
   "name": "python3"
  },
  "language_info": {
   "codemirror_mode": {
    "name": "ipython",
    "version": 3
   },
   "file_extension": ".py",
   "mimetype": "text/x-python",
   "name": "python",
   "nbconvert_exporter": "python",
   "pygments_lexer": "ipython3",
   "version": "3.9.17"
  }
 },
 "nbformat": 4,
 "nbformat_minor": 5
}
