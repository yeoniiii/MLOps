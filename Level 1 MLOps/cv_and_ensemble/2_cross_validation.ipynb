{
 "cells": [
  {
   "cell_type": "code",
   "execution_count": null,
   "id": "1a4b0566-415d-4fd1-b4fa-33fd2d63c945",
   "metadata": {},
   "outputs": [],
   "source": [
    "!pip install catboost"
   ]
  },
  {
   "cell_type": "code",
   "execution_count": null,
   "id": "f4897c4a-faa7-465b-a8ac-bfeb95444b9d",
   "metadata": {},
   "outputs": [],
   "source": [
    "import pandas as pd\n",
    "import numpy as np\n",
    "from sklearn.ensemble import RandomForestClassifier\n",
    "from sklearn.model_selection import GridSearchCV, RandomizedSearchCV\n",
    "from catboost.datasets import titanic\n",
    "from library1 import *"
   ]
  },
  {
   "cell_type": "code",
   "execution_count": null,
   "id": "0f59a5ac-9dac-462f-8b59-0bf0087e17e2",
   "metadata": {},
   "outputs": [],
   "source": [
    "train, test = titanic()\n",
    "xcols = test.columns.tolist()\n",
    "ycol = \"Survived\""
   ]
  },
  {
   "cell_type": "code",
   "execution_count": null,
   "id": "3d696058-7c1e-4907-8579-3d0f8fe151bf",
   "metadata": {},
   "outputs": [],
   "source": [
    "pipe1 = Pipeline([\n",
    "    ('step1',   SimpleImputer(strategy=\"mean\") ),\n",
    "    ('step2',   numeric_filtering()  ),\n",
    "    ('step3',   StandardScaler()  ),\n",
    "]) \n",
    "\n",
    "pipe2 = Pipeline([\n",
    "    ('step1',   SimpleImputer(strategy=\"most_frequent\") ),\n",
    "    ('step2',   categorical_filtering()  ),\n",
    "    ('step3',   OneHotEncoder()  ),\n",
    "])\n",
    "\n",
    "transform = ColumnTransformer([\n",
    "    ('num',  pipe1,  make_column_selector(dtype_include=np.number)),\n",
    "    ('cat',  pipe2,  make_column_selector(dtype_exclude=np.number)),\n",
    "])\n",
    "\n",
    "pipe = Pipeline([\n",
    "    ('transform',  transform ),\n",
    "    ('model',      RandomForestClassifier() ),\n",
    "])      "
   ]
  },
  {
   "cell_type": "code",
   "execution_count": null,
   "id": "847d553e-a596-4e36-ae67-eef8ea7b2357",
   "metadata": {},
   "outputs": [],
   "source": [
    "param_grid = {\n",
    "            'model__max_depth':[4,5,6,7],\n",
    "            'model__max_leaf_nodes':[3,5,7,9,10],\n",
    "            'model__criterion':['entropy']\n",
    "        }"
   ]
  },
  {
   "cell_type": "code",
   "execution_count": null,
   "id": "7be6257a-d551-49e7-a6f7-84fdb14465d5",
   "metadata": {},
   "outputs": [],
   "source": [
    "gs = GridSearchCV(pipe,\n",
    "                  param_grid=param_grid,\n",
    "                  scoring='accuracy',\n",
    "                  cv=5)\n",
    "gs.fit(train[xcols],train[ycol])"
   ]
  },
  {
   "cell_type": "code",
   "execution_count": null,
   "id": "39a7eb72-03eb-4b87-98fb-ca265c27579f",
   "metadata": {},
   "outputs": [],
   "source": [
    "pd.DataFrame(gs.cv_results_).sort_values('rank_test_score')"
   ]
  },
  {
   "cell_type": "code",
   "execution_count": null,
   "id": "5dc395db-c012-4e66-b05c-97b940200f94",
   "metadata": {},
   "outputs": [],
   "source": [
    "param_grid = {\n",
    "            'model__max_depth':range(1,21),\n",
    "            'model__max_leaf_nodes':range(5,101,5),\n",
    "            'model__criterion':['entropy','gini']\n",
    "        }"
   ]
  },
  {
   "cell_type": "code",
   "execution_count": null,
   "id": "a9e8078d-8f81-4709-92cb-eaf22310fc89",
   "metadata": {},
   "outputs": [],
   "source": [
    "rs = RandomizedSearchCV(pipe,\n",
    "                        param_distributions=param_grid,\n",
    "                        n_iter=20,\n",
    "                        scoring='accuracy',\n",
    "                        cv=5)\n",
    "rs.fit(train[xcols],train[ycol])"
   ]
  },
  {
   "cell_type": "code",
   "execution_count": null,
   "id": "f2d9463a-91fd-4e54-8670-09162c003e9a",
   "metadata": {},
   "outputs": [],
   "source": [
    "pd.DataFrame(rs.cv_results_).sort_values('rank_test_score')"
   ]
  }
 ],
 "metadata": {
  "kernelspec": {
   "display_name": "Python 3",
   "language": "python",
   "name": "python3"
  },
  "language_info": {
   "codemirror_mode": {
    "name": "ipython",
    "version": 3
   },
   "file_extension": ".py",
   "mimetype": "text/x-python",
   "name": "python",
   "nbconvert_exporter": "python",
   "pygments_lexer": "ipython3",
   "version": "3.9.17"
  }
 },
 "nbformat": 4,
 "nbformat_minor": 5
}
