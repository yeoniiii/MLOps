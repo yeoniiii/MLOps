{
 "cells": [
  {
   "cell_type": "code",
   "execution_count": null,
   "id": "1a4b0566-415d-4fd1-b4fa-33fd2d63c945",
   "metadata": {},
   "outputs": [],
   "source": [
    "!pip install catboost"
   ]
  },
  {
   "cell_type": "code",
   "execution_count": null,
   "id": "f4897c4a-faa7-465b-a8ac-bfeb95444b9d",
   "metadata": {},
   "outputs": [],
   "source": [
    "import pandas as pd\n",
    "import numpy as np\n",
    "from catboost.datasets import titanic\n",
    "from library1 import *"
   ]
  },
  {
   "cell_type": "code",
   "execution_count": null,
   "id": "0f59a5ac-9dac-462f-8b59-0bf0087e17e2",
   "metadata": {},
   "outputs": [],
   "source": [
    "train, test = titanic()\n",
    "xcols = test.columns.tolist()\n",
    "ycol = \"Survived\""
   ]
  },
  {
   "cell_type": "code",
   "execution_count": null,
   "id": "0eaf2249-39f3-401d-a520-88f8ab5a6a82",
   "metadata": {},
   "outputs": [],
   "source": [
    "params = {\n",
    "    'n_cv':5,\n",
    "    'n_perm':6,\n",
    "    'model__max_depth':[4,5,6,7],\n",
    "    'model__max_leaf_nodes':[3,5,7,9,10],\n",
    "    'model__criterion':['entropy']\n",
    "}"
   ]
  },
  {
   "cell_type": "code",
   "execution_count": null,
   "id": "3d696058-7c1e-4907-8579-3d0f8fe151bf",
   "metadata": {},
   "outputs": [],
   "source": [
    "model = pipeline_model(params)\n",
    "model.fit(train[xcols],train[ycol])"
   ]
  },
  {
   "cell_type": "code",
   "execution_count": null,
   "id": "847d553e-a596-4e36-ae67-eef8ea7b2357",
   "metadata": {},
   "outputs": [],
   "source": [
    "model.cv_result()"
   ]
  },
  {
   "cell_type": "code",
   "execution_count": null,
   "id": "aeda4d68-376b-47eb-9f0c-0098380020b1",
   "metadata": {},
   "outputs": [],
   "source": [
    "model.feature_importances().plot.barh()"
   ]
  }
 ],
 "metadata": {
  "kernelspec": {
   "display_name": "Python 3",
   "language": "python",
   "name": "python3"
  },
  "language_info": {
   "codemirror_mode": {
    "name": "ipython",
    "version": 3
   },
   "file_extension": ".py",
   "mimetype": "text/x-python",
   "name": "python",
   "nbconvert_exporter": "python",
   "pygments_lexer": "ipython3",
   "version": "3.9.17"
  }
 },
 "nbformat": 4,
 "nbformat_minor": 5
}
