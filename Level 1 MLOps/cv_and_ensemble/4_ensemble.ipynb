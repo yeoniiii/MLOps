{
 "cells": [
  {
   "cell_type": "code",
   "execution_count": null,
   "id": "a08835b8-832e-401e-9166-1db88915d822",
   "metadata": {},
   "outputs": [],
   "source": [
    "!pip install catboost"
   ]
  },
  {
   "cell_type": "code",
   "execution_count": null,
   "id": "36022039-45ce-48f5-b37a-db20785a435d",
   "metadata": {},
   "outputs": [],
   "source": [
    "import pandas as pd\n",
    "import numpy as np\n",
    "from sklearn.ensemble import VotingClassifier\n",
    "from sklearn.ensemble import RandomForestClassifier\n",
    "from xgboost import XGBClassifier\n",
    "from lightgbm import LGBMClassifier\n",
    "from library1 import *\n",
    "from catboost.datasets import titanic"
   ]
  },
  {
   "cell_type": "code",
   "execution_count": null,
   "id": "2b54fade-1418-467a-9e1e-6d597ca5fe93",
   "metadata": {},
   "outputs": [],
   "source": [
    "train, test = titanic()\n",
    "train = train.dropna()\n",
    "test = test.dropna()\n",
    "xcols = ['Age','Pclass','SibSp','Parch','Fare']\n",
    "ycol = 'Survived'"
   ]
  },
  {
   "cell_type": "code",
   "execution_count": null,
   "id": "d200ae1d-8755-4857-a4ed-0283e00c4ca3",
   "metadata": {},
   "outputs": [],
   "source": [
    "model1 = RandomForestClassifier()\n",
    "model2 = LGBMClassifier()\n",
    "model3 = XGBClassifier()\n",
    "models = [('RF',model1), ('LGBM',model2), ('XGBM',model3)]"
   ]
  },
  {
   "cell_type": "code",
   "execution_count": null,
   "id": "da453592-023f-438f-981c-a66fe563f47b",
   "metadata": {},
   "outputs": [],
   "source": [
    "ensemble_model = VotingClassifier(models, voting=\"soft\", verbose=0)\n",
    "ensemble_model.fit(train[xcols],train[ycol])"
   ]
  },
  {
   "cell_type": "code",
   "execution_count": null,
   "id": "fbf4f289-6768-43df-80ef-bd178706b63e",
   "metadata": {},
   "outputs": [],
   "source": [
    "pd.DataFrame(np.concatenate([\n",
    "    ensemble_model.named_estimators_['RF'].predict_proba(test[xcols])[:,1],\n",
    "    ensemble_model.named_estimators_['LGBM'].predict_proba(test[xcols])[:,1],\n",
    "    ensemble_model.named_estimators_['XGBM'].predict_proba(test[xcols])[:,1],\n",
    "    ensemble_model.predict_proba(test[xcols])[:,1],\n",
    "    ensemble_model.predict(test[xcols]),\n",
    "]).reshape(5,-1).T,\n",
    "columns=['RF','LGBM','XGBM','ENSEMBLE','final_decesion'])"
   ]
  }
 ],
 "metadata": {
  "kernelspec": {
   "display_name": "Python 3",
   "language": "python",
   "name": "python3"
  },
  "language_info": {
   "codemirror_mode": {
    "name": "ipython",
    "version": 3
   },
   "file_extension": ".py",
   "mimetype": "text/x-python",
   "name": "python",
   "nbconvert_exporter": "python",
   "pygments_lexer": "ipython3",
   "version": "3.9.17"
  }
 },
 "nbformat": 4,
 "nbformat_minor": 5
}
