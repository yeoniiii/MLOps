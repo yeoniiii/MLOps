{
 "cells": [
  {
   "cell_type": "code",
   "execution_count": null,
   "id": "3292a8a9-4983-4f85-b7b9-6baa8dca7530",
   "metadata": {},
   "outputs": [],
   "source": [
    "import pandas as pd\n",
    "import numpy as np\n",
    "from library1 import *\n",
    "from catboost.datasets import titanic"
   ]
  },
  {
   "cell_type": "code",
   "execution_count": null,
   "id": "ea81f5ec-9219-48f9-bee4-c9dccd397ba8",
   "metadata": {},
   "outputs": [],
   "source": [
    "train, test = titanic()\n",
    "ycol = \"Survived\"\n",
    "xcols = test.columns.tolist()"
   ]
  },
  {
   "cell_type": "code",
   "execution_count": null,
   "id": "63e71247-dafb-4534-a25c-bb0092a351e8",
   "metadata": {},
   "outputs": [],
   "source": [
    "model = ensemble_pipeline()\n",
    "model.fit(train[xcols],train[ycol])"
   ]
  },
  {
   "cell_type": "code",
   "execution_count": null,
   "id": "fef29c4d-feab-4da4-9209-d719309c327c",
   "metadata": {},
   "outputs": [],
   "source": [
    "model.ensemble_pipe"
   ]
  },
  {
   "cell_type": "code",
   "execution_count": null,
   "id": "6d26db82-19b5-483b-940d-b17c4760c0a8",
   "metadata": {},
   "outputs": [],
   "source": [
    "model.feature_importances().plot.barh()"
   ]
  },
  {
   "cell_type": "code",
   "execution_count": null,
   "id": "846c67e4-d2e1-41b4-bd8b-a252cd0bf707",
   "metadata": {},
   "outputs": [],
   "source": [
    "model.predict(test)"
   ]
  }
 ],
 "metadata": {
  "kernelspec": {
   "display_name": "Python 3",
   "language": "python",
   "name": "python3"
  },
  "language_info": {
   "codemirror_mode": {
    "name": "ipython",
    "version": 3
   },
   "file_extension": ".py",
   "mimetype": "text/x-python",
   "name": "python",
   "nbconvert_exporter": "python",
   "pygments_lexer": "ipython3",
   "version": "3.9.17"
  }
 },
 "nbformat": 4,
 "nbformat_minor": 5
}
