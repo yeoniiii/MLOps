{
 "cells": [
  {
   "cell_type": "code",
   "execution_count": 3,
   "id": "e584bbbb-cae1-4972-9a87-61f83a15bd9d",
   "metadata": {},
   "outputs": [],
   "source": [
    "import numpy as np\n",
    "import pandas as pd\n",
    "import matplotlib.pyplot as plt\n",
    "import pickle as pkl\n",
    "from library import *\n",
    "from catboost.datasets import titanic\n",
    "\n",
    "import warnings\n",
    "warnings.filterwarnings(\"ignore\")"
   ]
  },
  {
   "cell_type": "code",
   "execution_count": null,
   "id": "799845df-ef9f-4c78-8a85-21411ac29083",
   "metadata": {},
   "outputs": [],
   "source": [
    "pipe = pkl.load(open(\"ml_pipeline.pkl\", 'rb'))"
   ]
  },
  {
   "cell_type": "code",
   "execution_count": null,
   "id": "f92c48c8-74de-4890-b328-ff311b586265",
   "metadata": {},
   "outputs": [],
   "source": [
    "train, test = titanic()\n",
    "test = test.dropna()"
   ]
  },
  {
   "cell_type": "code",
   "execution_count": null,
   "id": "0ed8dc0f-d316-4d67-b1dd-bee2fb499da6",
   "metadata": {},
   "outputs": [],
   "source": [
    "pipe.predict(test)"
   ]
  },
  {
   "cell_type": "code",
   "execution_count": null,
   "id": "46cb3778-0244-4fee-a307-da72bbe3098f",
   "metadata": {},
   "outputs": [],
   "source": [
    "print(\"feature names: \", test.columns.tolist())\n",
    "print(\"number of features: \", len(test.columns.tolist()))"
   ]
  },
  {
   "cell_type": "code",
   "execution_count": null,
   "id": "071c8193-d784-4560-a4ba-25baa95385d1",
   "metadata": {},
   "outputs": [],
   "source": [
    "print(\"feature importances: \\n\", pipe['model'].feature_importances_)\n",
    "print(\"number of features: \", len(pipe['model'].feature_importances_))"
   ]
  },
  {
   "cell_type": "code",
   "execution_count": null,
   "id": "cd54e991-e66b-4984-9a49-3725ee5d1d3b",
   "metadata": {},
   "outputs": [],
   "source": [
    "pipe['transform'].named_transformers_['num'][2].mean_"
   ]
  },
  {
   "cell_type": "code",
   "execution_count": null,
   "id": "325bc821-6459-400e-9144-47e40bc7e6b8",
   "metadata": {},
   "outputs": [],
   "source": [
    "pipe['transform'].named_transformers_['cat'][2].n_features_in_"
   ]
  },
  {
   "cell_type": "code",
   "execution_count": null,
   "id": "c9be4416-b815-48fc-ae9e-25d19008018b",
   "metadata": {},
   "outputs": [],
   "source": [
    "pipe['transform'].named_transformers_['cat'][2].categories_"
   ]
  },
  {
   "cell_type": "code",
   "execution_count": null,
   "id": "efb73ef5-f28d-46e0-b98a-81bdeb02afa6",
   "metadata": {},
   "outputs": [],
   "source": [
    "plt.barh([\"Pclass\",\"Age\",\"SibSp\",\"Parch\",\"Fare\", \n",
    "          \"female\",\"male\",\n",
    "          \"embark_C\",\"embark_Q\",\"embark_S\"], \n",
    "         pipe['model'].feature_importances_)"
   ]
  },
  {
   "cell_type": "code",
   "execution_count": null,
   "id": "75318d64-a88f-460c-86a6-3e159919f48a",
   "metadata": {},
   "outputs": [],
   "source": [
    "from sklearn.inspection import permutation_importance\n",
    "\n",
    "imp = permutation_importance(estimator = pipe, \n",
    "                             X = train[test.columns],\n",
    "                             y = train[\"Survived\"],\n",
    "                             scoring=\"accuracy\",\n",
    "                             n_repeats=5\n",
    "                             )"
   ]
  },
  {
   "cell_type": "code",
   "execution_count": null,
   "id": "eb88d1be-b804-4462-8ab0-0bd78bdba226",
   "metadata": {},
   "outputs": [],
   "source": [
    "plt.barh(test.columns, imp['importances_mean'])"
   ]
  }
 ],
 "metadata": {
  "kernelspec": {
   "display_name": "Python 3",
   "language": "python",
   "name": "python3"
  },
  "language_info": {
   "codemirror_mode": {
    "name": "ipython",
    "version": 3
   },
   "file_extension": ".py",
   "mimetype": "text/x-python",
   "name": "python",
   "nbconvert_exporter": "python",
   "pygments_lexer": "ipython3",
   "version": "3.8.19"
  }
 },
 "nbformat": 4,
 "nbformat_minor": 5
}
