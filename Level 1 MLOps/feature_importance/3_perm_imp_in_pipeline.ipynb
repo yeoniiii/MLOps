{
 "cells": [
  {
   "cell_type": "code",
   "execution_count": null,
   "id": "417e8d9d-92be-473f-aebf-e730e653d76b",
   "metadata": {},
   "outputs": [],
   "source": [
    "import pandas as pd\n",
    "import numpy as np\n",
    "from sklearn.inspection import permutation_importance\n",
    "from library import *\n",
    "from sklearn.ensemble import RandomForestClassifier\n",
    "from catboost.datasets import titanic\n"
   ]
  },
  {
   "cell_type": "code",
   "execution_count": null,
   "id": "f4cc7dcb-fd1e-47a2-b010-d2845cabc813",
   "metadata": {},
   "outputs": [],
   "source": [
    "class pipeline_model:\n",
    "    def __init__(self):\n",
    "        \n",
    "        pipe1 = Pipeline([\n",
    "            ('step1',   SimpleImputer(strategy=\"mean\") ),\n",
    "            ('step2',   numeric_filtering()  ),\n",
    "            ('step3',   StandardScaler()  ),\n",
    "        ]) \n",
    "        \n",
    "        pipe2 = Pipeline([\n",
    "            ('step1',   SimpleImputer(strategy=\"most_frequent\") ),\n",
    "            ('step2',   categorical_filtering()  ),\n",
    "            ('step3',   OneHotEncoder()  ),\n",
    "        ])\n",
    "        \n",
    "        transform = ColumnTransformer([\n",
    "            ('num',  pipe1,  make_column_selector(dtype_include=np.number)),\n",
    "            ('cat',  pipe2,  make_column_selector(dtype_exclude=np.number)),\n",
    "        ])\n",
    "        \n",
    "        self.pipe = Pipeline([\n",
    "            ('transform',  transform     ),\n",
    "            ('model',      RandomForestClassifier()    )\n",
    "        ])\n",
    "        \n",
    "        \n",
    "    def fit(self, X, y):\n",
    "        self.columns = X.columns.tolist()\n",
    "        self.pipe.fit(X, y)\n",
    "        self.imp = permutation_importance(estimator = self.pipe,\n",
    "                                          X = X, y = y, \n",
    "                                          scoring=\"accuracy\", n_repeats=5 )\n",
    "        return self\n",
    "    \n",
    "    def predict(self, X):\n",
    "        return self.pipe.predict(X)\n",
    "        \n",
    "    def feature_importances(self):\n",
    "        result = pd.DataFrame(self.imp['importances_mean'], \n",
    "                              index=self.columns, \n",
    "                              columns=['features'])\n",
    "        return result"
   ]
  },
  {
   "cell_type": "code",
   "execution_count": null,
   "id": "4a431d0f-3d7e-41cd-a7e2-4f4a7cf2cd1d",
   "metadata": {},
   "outputs": [],
   "source": [
    "train, test = titanic()\n",
    "ycol = 'Survived'\n",
    "xcol = [col for col in train.columns if col not in [ycol]]"
   ]
  },
  {
   "cell_type": "code",
   "execution_count": null,
   "id": "c6409652-ccaf-4024-87bd-5cb34a0ef307",
   "metadata": {},
   "outputs": [],
   "source": [
    "model = pipeline_model()\n",
    "model.fit(train[xcol], train[ycol])"
   ]
  },
  {
   "cell_type": "code",
   "execution_count": null,
   "id": "4e720130-0155-4206-87cb-da7b602b4005",
   "metadata": {},
   "outputs": [],
   "source": [
    "model.feature_importances().plot.barh()"
   ]
  },
  {
   "cell_type": "code",
   "execution_count": null,
   "id": "79718093-15f2-497a-bb5e-ca054728fef2",
   "metadata": {},
   "outputs": [],
   "source": [
    "pred = model.predict(test)\n",
    "print(\"prediction for testset: \")\n",
    "print(pred)"
   ]
  }
 ],
 "metadata": {
  "kernelspec": {
   "display_name": "Python 3",
   "language": "python",
   "name": "python3"
  },
  "language_info": {
   "codemirror_mode": {
    "name": "ipython",
    "version": 3
   },
   "file_extension": ".py",
   "mimetype": "text/x-python",
   "name": "python",
   "nbconvert_exporter": "python",
   "pygments_lexer": "ipython3",
   "version": "3.8.19"
  }
 },
 "nbformat": 4,
 "nbformat_minor": 5
}
