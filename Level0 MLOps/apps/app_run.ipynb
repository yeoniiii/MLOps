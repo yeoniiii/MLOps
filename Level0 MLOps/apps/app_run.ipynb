{
 "cells": [
  {
   "cell_type": "code",
   "execution_count": 1,
   "id": "11607a4d-0d09-4f9f-a6d6-1bc291b8fd42",
   "metadata": {},
   "outputs": [],
   "source": [
    "import dash\n",
    "from dash.dependencies import Input, Output, State\n",
    "import plotly.express as px\n",
    "import plotly.graph_objects as go\n",
    "\n",
    "import app_layout as al\n",
    "import mylib as my\n",
    "\n",
    "import pandas as pd\n",
    "import numpy as np\n",
    "import sys, os"
   ]
  },
  {
   "cell_type": "code",
   "execution_count": 2,
   "id": "a4ab3736-3667-42bd-9b88-62b86b7cd97d",
   "metadata": {},
   "outputs": [],
   "source": [
    "df = my.db_to_df(db_name='steel.db', table_name='test')"
   ]
  },
  {
   "cell_type": "code",
   "execution_count": 3,
   "id": "160991c3-2f4e-4c22-b534-691fefeb0189",
   "metadata": {},
   "outputs": [],
   "source": [
    "items = ['button1','dropdown1','graph1', df]"
   ]
  },
  {
   "cell_type": "code",
   "execution_count": 4,
   "id": "07da3bea-117c-46e2-a4ec-7bb76bc2a478",
   "metadata": {},
   "outputs": [],
   "source": [
    "app = dash.Dash()\n",
    "app.layout =  al.app_layout(items)"
   ]
  },
  {
   "cell_type": "code",
   "execution_count": 5,
   "id": "b2616fff-0d62-4787-9a7d-97c07f81b32a",
   "metadata": {},
   "outputs": [],
   "source": [
    "@app.callback(\n",
    "    Output('graph1','figure'),\n",
    "    Input('button1','n_clicks'),\n",
    "    State('dropdown1', 'value'),\n",
    "    prevent_initial_call=False,\n",
    ")\n",
    "def fn(n_clicks, value): ## parameters from input and state    \n",
    "    fig = px.scatter(df, x='V1', y=value, width=700, height=400)\n",
    "    return fig"
   ]
  },
  {
   "cell_type": "code",
   "execution_count": 6,
   "id": "91be5d1a-80d3-483d-b2ac-e6d6a40df179",
   "metadata": {},
   "outputs": [
    {
     "data": {
      "text/html": [
       "\n",
       "        <iframe\n",
       "            width=\"100%\"\n",
       "            height=\"650\"\n",
       "            src=\"http://0.0.0.0:9101/\"\n",
       "            frameborder=\"0\"\n",
       "            allowfullscreen\n",
       "            \n",
       "        ></iframe>\n",
       "        "
      ],
      "text/plain": [
       "<IPython.lib.display.IFrame at 0x15c2bea90>"
      ]
     },
     "metadata": {},
     "output_type": "display_data"
    }
   ],
   "source": [
    "app.run_server(host=\"0.0.0.0\", port=9101) "
   ]
  }
 ],
 "metadata": {
  "kernelspec": {
   "display_name": "Python 3.8.19 ('MLOps')",
   "language": "python",
   "name": "python3"
  },
  "language_info": {
   "codemirror_mode": {
    "name": "ipython",
    "version": 3
   },
   "file_extension": ".py",
   "mimetype": "text/x-python",
   "name": "python",
   "nbconvert_exporter": "python",
   "pygments_lexer": "ipython3",
   "version": "3.8.19"
  },
  "vscode": {
   "interpreter": {
    "hash": "2f13aeb8b86fde212a377ec607eb85d0f8352caef77bf26b53c436968f93b1cb"
   }
  }
 },
 "nbformat": 4,
 "nbformat_minor": 5
}
