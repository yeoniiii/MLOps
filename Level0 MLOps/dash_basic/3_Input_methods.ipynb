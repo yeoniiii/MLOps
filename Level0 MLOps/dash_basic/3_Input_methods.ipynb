{
 "cells": [
  {
   "cell_type": "code",
   "execution_count": 4,
   "id": "52d35ae1",
   "metadata": {},
   "outputs": [],
   "source": [
    "import dash\n",
    "from dash import html\n",
    "from dash import dash_table\n",
    "from dash import dcc\n",
    "from dash.dependencies import Input, Output\n",
    "\n",
    "import pandas as pd\n",
    "import numpy as np\n",
    "\n",
    "import plotly.express as px"
   ]
  },
  {
   "cell_type": "markdown",
   "id": "bdb12552",
   "metadata": {},
   "source": [
    "### 예제 데이터 생성"
   ]
  },
  {
   "cell_type": "code",
   "execution_count": 5,
   "id": "13cc5365",
   "metadata": {},
   "outputs": [],
   "source": [
    "### 예제 데이터 생성 ###\n",
    "n = 100\n",
    "dat = pd.DataFrame()\n",
    "dat['x1'] = np.random.normal(0,1,n)\n",
    "dat['x2'] = np.random.normal(0,1,n)\n",
    "dat['x3'] = [str(i) for i in np.random.randint(0,4,size=n)]\n",
    "dat['x4'] = [str(i) for i in np.random.randint(1,10,size=n)]"
   ]
  },
  {
   "cell_type": "markdown",
   "id": "c4a007b8",
   "metadata": {},
   "source": [
    "### Dropdown"
   ]
  },
  {
   "cell_type": "code",
   "execution_count": 6,
   "id": "22db6027",
   "metadata": {},
   "outputs": [
    {
     "data": {
      "text/html": [
       "\n",
       "        <iframe\n",
       "            width=\"100%\"\n",
       "            height=\"650\"\n",
       "            src=\"http://0.0.0.0:9101/\"\n",
       "            frameborder=\"0\"\n",
       "            allowfullscreen\n",
       "            \n",
       "        ></iframe>\n",
       "        "
      ],
      "text/plain": [
       "<IPython.lib.display.IFrame at 0x146d33a90>"
      ]
     },
     "metadata": {},
     "output_type": "display_data"
    }
   ],
   "source": [
    "### Dropdown ###\n",
    "app = dash.Dash()\n",
    "app.layout = html.Div([\n",
    "  dcc.Dropdown(id='dropdown', \n",
    "               options=[{\"label\": name, \"value\": name} for name in dat['x4'].unique()], \n",
    "               value= dat['x4'][0] ,  \n",
    "               placeholder= 'select x4 value' ,\n",
    "               style={'display':'inline-block','width':200})\n",
    "])\n",
    "app.run_server(host=\"0.0.0.0\", port=9101)"
   ]
  },
  {
   "cell_type": "markdown",
   "id": "3e963bbd",
   "metadata": {},
   "source": [
    "### Slider"
   ]
  },
  {
   "cell_type": "code",
   "execution_count": 7,
   "id": "a177e51f",
   "metadata": {},
   "outputs": [
    {
     "data": {
      "text/html": [
       "\n",
       "        <iframe\n",
       "            width=\"100%\"\n",
       "            height=\"650\"\n",
       "            src=\"http://0.0.0.0:9101/\"\n",
       "            frameborder=\"0\"\n",
       "            allowfullscreen\n",
       "            \n",
       "        ></iframe>\n",
       "        "
      ],
      "text/plain": [
       "<IPython.lib.display.IFrame at 0x146dc9bb0>"
      ]
     },
     "metadata": {},
     "output_type": "display_data"
    }
   ],
   "source": [
    "### Slider ###\n",
    "app = dash.Dash()\n",
    "app.layout = html.Div([\n",
    "  dcc.Slider(min=-5, max=10, step=1, value=-3,\n",
    "             marks = {i: i for i in range(-5, 10 + 1, 1)})\n",
    "])\n",
    "app.run_server(host=\"0.0.0.0\", port=9101)"
   ]
  },
  {
   "cell_type": "markdown",
   "id": "5e064182",
   "metadata": {},
   "source": [
    "### Input"
   ]
  },
  {
   "cell_type": "code",
   "execution_count": 8,
   "id": "06907b30",
   "metadata": {},
   "outputs": [
    {
     "data": {
      "text/html": [
       "\n",
       "        <iframe\n",
       "            width=\"100%\"\n",
       "            height=\"650\"\n",
       "            src=\"http://0.0.0.0:9101/\"\n",
       "            frameborder=\"0\"\n",
       "            allowfullscreen\n",
       "            \n",
       "        ></iframe>\n",
       "        "
      ],
      "text/plain": [
       "<IPython.lib.display.IFrame at 0x146d25b50>"
      ]
     },
     "metadata": {},
     "output_type": "display_data"
    }
   ],
   "source": [
    "### Input ###\n",
    "app = dash.Dash()\n",
    "app.layout = html.Div([\n",
    "  dcc.Input(\n",
    "        placeholder='Enter a value...',\n",
    "        type='text',\n",
    "        value=''\n",
    "    )\n",
    "])\n",
    "app.run_server(host=\"0.0.0.0\", port=9101)"
   ]
  },
  {
   "cell_type": "markdown",
   "id": "7ef8181a",
   "metadata": {},
   "source": [
    " ### TextArea"
   ]
  },
  {
   "cell_type": "code",
   "execution_count": 9,
   "id": "6d499fe3",
   "metadata": {},
   "outputs": [
    {
     "data": {
      "text/html": [
       "\n",
       "        <iframe\n",
       "            width=\"100%\"\n",
       "            height=\"650\"\n",
       "            src=\"http://0.0.0.0:9101/\"\n",
       "            frameborder=\"0\"\n",
       "            allowfullscreen\n",
       "            \n",
       "        ></iframe>\n",
       "        "
      ],
      "text/plain": [
       "<IPython.lib.display.IFrame at 0x146dfc5b0>"
      ]
     },
     "metadata": {},
     "output_type": "display_data"
    }
   ],
   "source": [
    "### TextArea ###\n",
    "app = dash.Dash()\n",
    "app.layout = html.Div([\n",
    "  dcc.Textarea(\n",
    "        placeholder='Enter a value...',\n",
    "        value='This is a TextArea component',\n",
    "        style={'width': '100%'}\n",
    "    )\n",
    "])\n",
    "app.run_server(host=\"0.0.0.0\", port=9101)"
   ]
  },
  {
   "cell_type": "markdown",
   "id": "9a306195",
   "metadata": {},
   "source": [
    "### Check List"
   ]
  },
  {
   "cell_type": "code",
   "execution_count": 10,
   "id": "ead9ea18",
   "metadata": {},
   "outputs": [
    {
     "data": {
      "text/html": [
       "\n",
       "        <iframe\n",
       "            width=\"100%\"\n",
       "            height=\"650\"\n",
       "            src=\"http://0.0.0.0:9101/\"\n",
       "            frameborder=\"0\"\n",
       "            allowfullscreen\n",
       "            \n",
       "        ></iframe>\n",
       "        "
      ],
      "text/plain": [
       "<IPython.lib.display.IFrame at 0x1478ad820>"
      ]
     },
     "metadata": {},
     "output_type": "display_data"
    }
   ],
   "source": [
    "### Check List ###\n",
    "app = dash.Dash()\n",
    "app.layout = html.Div([\n",
    "  dcc.Checklist(options=[{\"label\": name, \"value\": name} for name in ['New York City', 'Montréal', 'San Francisco']], \n",
    "               value= ['Montréal', 'San Francisco'],\n",
    "               labelStyle={\"display\": \"inline\"})\n",
    "])\n",
    "app.run_server(host=\"0.0.0.0\", port=9101)"
   ]
  },
  {
   "cell_type": "markdown",
   "id": "9acb8d5d",
   "metadata": {},
   "source": [
    "### Radio Items"
   ]
  },
  {
   "cell_type": "code",
   "execution_count": 11,
   "id": "8b406295",
   "metadata": {},
   "outputs": [
    {
     "data": {
      "text/html": [
       "\n",
       "        <iframe\n",
       "            width=\"100%\"\n",
       "            height=\"650\"\n",
       "            src=\"http://0.0.0.0:9101/\"\n",
       "            frameborder=\"0\"\n",
       "            allowfullscreen\n",
       "            \n",
       "        ></iframe>\n",
       "        "
      ],
      "text/plain": [
       "<IPython.lib.display.IFrame at 0x1478bfd00>"
      ]
     },
     "metadata": {},
     "output_type": "display_data"
    }
   ],
   "source": [
    "### Radio Items ###\n",
    "app = dash.Dash()\n",
    "app.layout = html.Div([\n",
    "  dcc.RadioItems(options=[{\"label\": name, \"value\": name} for name in ['New York City', 'Montréal', 'San Francisco']],                \n",
    "                 value= ['Montréal', 'San Francisco'],\n",
    "                 labelStyle={\"display\": \"block\"})\n",
    "])\n",
    "app.run_server(host=\"0.0.0.0\", port=9101)"
   ]
  },
  {
   "cell_type": "markdown",
   "id": "b5d8b9d9",
   "metadata": {},
   "source": [
    "### Button "
   ]
  },
  {
   "cell_type": "code",
   "execution_count": 12,
   "id": "212ae359",
   "metadata": {},
   "outputs": [
    {
     "data": {
      "text/html": [
       "\n",
       "        <iframe\n",
       "            width=\"100%\"\n",
       "            height=\"650\"\n",
       "            src=\"http://0.0.0.0:9101/\"\n",
       "            frameborder=\"0\"\n",
       "            allowfullscreen\n",
       "            \n",
       "        ></iframe>\n",
       "        "
      ],
      "text/plain": [
       "<IPython.lib.display.IFrame at 0x1478c5fd0>"
      ]
     },
     "metadata": {},
     "output_type": "display_data"
    }
   ],
   "source": [
    "### Button ###\n",
    "app = dash.Dash()\n",
    "app.layout = html.Div([\n",
    "  html.Button('This is Button', id='button-example-1'),\n",
    "])\n",
    "app.run_server(host=\"0.0.0.0\", port=9101)"
   ]
  }
 ],
 "metadata": {
  "kernelspec": {
   "display_name": "Python 3.8.19 ('MLOps')",
   "language": "python",
   "name": "python3"
  },
  "language_info": {
   "codemirror_mode": {
    "name": "ipython",
    "version": 3
   },
   "file_extension": ".py",
   "mimetype": "text/x-python",
   "name": "python",
   "nbconvert_exporter": "python",
   "pygments_lexer": "ipython3",
   "version": "3.8.19"
  },
  "vscode": {
   "interpreter": {
    "hash": "2f13aeb8b86fde212a377ec607eb85d0f8352caef77bf26b53c436968f93b1cb"
   }
  }
 },
 "nbformat": 4,
 "nbformat_minor": 5
}
