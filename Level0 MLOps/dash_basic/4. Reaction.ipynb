{
 "cells": [
  {
   "cell_type": "code",
   "execution_count": 1,
   "id": "f5af693d",
   "metadata": {},
   "outputs": [],
   "source": [
    "import dash\n",
    "from dash import html\n",
    "from dash import dash_table\n",
    "from dash import dcc\n",
    "from dash.dependencies import Input, Output\n",
    "\n",
    "import pandas as pd\n",
    "import numpy as np\n",
    "\n",
    "import plotly.express as px"
   ]
  },
  {
   "cell_type": "markdown",
   "id": "061e5d65",
   "metadata": {},
   "source": [
    "### 예제 데이터 생성"
   ]
  },
  {
   "cell_type": "code",
   "execution_count": 2,
   "id": "a712bea8",
   "metadata": {},
   "outputs": [],
   "source": [
    "### 예제 데이터 생성 ###\n",
    "n = 100\n",
    "dat = pd.DataFrame()\n",
    "dat['x1'] = np.random.normal(0,1,n)\n",
    "dat['x2'] = np.random.normal(0,1,n)\n",
    "dat['x3'] = [str(i) for i in np.random.randint(0,4,size=n)]\n",
    "dat['x4'] = [str(i) for i in np.random.randint(1,10,size=n)]"
   ]
  },
  {
   "cell_type": "markdown",
   "id": "1ccaa0e3",
   "metadata": {},
   "source": [
    "### Dropdown"
   ]
  },
  {
   "cell_type": "code",
   "execution_count": 3,
   "id": "09da1afb",
   "metadata": {},
   "outputs": [],
   "source": [
    "### Dropdown ###\n",
    "app = dash.Dash()\n",
    "app.layout = html.Div([\n",
    "    dcc.Dropdown(id='dropdown', \n",
    "                 options=[{\"label\": name, \"value\": name} for name in dat['x4'].unique()], \n",
    "                 value= dat['x4'][0] ,  \n",
    "                 placeholder= 'select x4 value' ,\n",
    "                 style={'display':'inline-block','width':200}),\n",
    "    html.Div(id='output')\n",
    "    \n",
    "])"
   ]
  },
  {
   "cell_type": "code",
   "execution_count": 4,
   "id": "e596337c",
   "metadata": {},
   "outputs": [
    {
     "data": {
      "text/html": [
       "\n",
       "        <iframe\n",
       "            width=\"100%\"\n",
       "            height=\"650\"\n",
       "            src=\"http://0.0.0.0:9101/\"\n",
       "            frameborder=\"0\"\n",
       "            allowfullscreen\n",
       "            \n",
       "        ></iframe>\n",
       "        "
      ],
      "text/plain": [
       "<IPython.lib.display.IFrame at 0x156d427c0>"
      ]
     },
     "metadata": {},
     "output_type": "display_data"
    }
   ],
   "source": [
    "@app.callback(\n",
    "    Output('output','children'),\n",
    "    Input('dropdown','value')\n",
    ")\n",
    "def example(input_value):\n",
    "    return html.H1(\"this is what you've selected: \"+str(input_value))\n",
    "\n",
    "app.run_server(host=\"0.0.0.0\", port=9101)"
   ]
  },
  {
   "cell_type": "markdown",
   "id": "9fb7fb17",
   "metadata": {},
   "source": [
    "### Slider"
   ]
  },
  {
   "cell_type": "code",
   "execution_count": 5,
   "id": "3186189b",
   "metadata": {},
   "outputs": [],
   "source": [
    "### Slider ###\n",
    "app = dash.Dash()\n",
    "app.layout = html.Div([\n",
    "    dcc.Slider(id='slider', \n",
    "               min=-5, max=10, step=1, value=-3,\n",
    "               marks = {i: i for i in range(-5, 10 + 1, 1)}),\n",
    "    html.Div(id='output')\n",
    "])"
   ]
  },
  {
   "cell_type": "code",
   "execution_count": 6,
   "id": "a65b81e1",
   "metadata": {},
   "outputs": [
    {
     "data": {
      "text/html": [
       "\n",
       "        <iframe\n",
       "            width=\"100%\"\n",
       "            height=\"650\"\n",
       "            src=\"http://0.0.0.0:9101/\"\n",
       "            frameborder=\"0\"\n",
       "            allowfullscreen\n",
       "            \n",
       "        ></iframe>\n",
       "        "
      ],
      "text/plain": [
       "<IPython.lib.display.IFrame at 0x156d5e760>"
      ]
     },
     "metadata": {},
     "output_type": "display_data"
    }
   ],
   "source": [
    "@app.callback(\n",
    "    Output('output','children'),\n",
    "    Input('slider','value')\n",
    ")\n",
    "def example(input_value):\n",
    "    return html.H1(\"this is what you've selected: \"+str(input_value))\n",
    "\n",
    "app.run_server(host=\"0.0.0.0\", port=9101)"
   ]
  },
  {
   "cell_type": "markdown",
   "id": "37cefc55",
   "metadata": {},
   "source": [
    "### Input"
   ]
  },
  {
   "cell_type": "code",
   "execution_count": 7,
   "id": "4929b99a",
   "metadata": {},
   "outputs": [],
   "source": [
    "### Input ###\n",
    "app = dash.Dash()\n",
    "app.layout = html.Div([\n",
    "    dcc.Input(id='input_text',\n",
    "              placeholder='Enter a keywords...',\n",
    "              type='text',\n",
    "              value=''\n",
    "             ),\n",
    "    html.Div(id='output')\n",
    "])"
   ]
  },
  {
   "cell_type": "code",
   "execution_count": 8,
   "id": "6ab474bf",
   "metadata": {},
   "outputs": [
    {
     "data": {
      "text/html": [
       "\n",
       "        <iframe\n",
       "            width=\"100%\"\n",
       "            height=\"650\"\n",
       "            src=\"http://0.0.0.0:9101/\"\n",
       "            frameborder=\"0\"\n",
       "            allowfullscreen\n",
       "            \n",
       "        ></iframe>\n",
       "        "
      ],
      "text/plain": [
       "<IPython.lib.display.IFrame at 0x156de8550>"
      ]
     },
     "metadata": {},
     "output_type": "display_data"
    }
   ],
   "source": [
    "@app.callback(\n",
    "    Output('output','children'),\n",
    "    Input('input_text','value')\n",
    ")\n",
    "def example(input_object):\n",
    "    return html.H1(\"this is what you've typed in: \"+str(input_object))\n",
    "\n",
    "\n",
    "app.run_server(host=\"0.0.0.0\", port=9101)"
   ]
  },
  {
   "cell_type": "markdown",
   "id": "ca2e0c17",
   "metadata": {},
   "source": [
    " ### TextArea"
   ]
  },
  {
   "cell_type": "code",
   "execution_count": 9,
   "id": "937f7697",
   "metadata": {},
   "outputs": [],
   "source": [
    "### TextArea ###\n",
    "app = dash.Dash()\n",
    "app.layout = html.Div([\n",
    "    dcc.Textarea(id='textArea',\n",
    "                 placeholder='Enter a value...',\n",
    "                 value='This is a TextArea component',\n",
    "                 style={'width': '100%'}\n",
    "                ),\n",
    "    html.Div(id='output')\n",
    "])"
   ]
  },
  {
   "cell_type": "code",
   "execution_count": 10,
   "id": "44b7a81f",
   "metadata": {},
   "outputs": [
    {
     "data": {
      "text/html": [
       "\n",
       "        <iframe\n",
       "            width=\"100%\"\n",
       "            height=\"650\"\n",
       "            src=\"http://0.0.0.0:9101/\"\n",
       "            frameborder=\"0\"\n",
       "            allowfullscreen\n",
       "            \n",
       "        ></iframe>\n",
       "        "
      ],
      "text/plain": [
       "<IPython.lib.display.IFrame at 0x1577aac10>"
      ]
     },
     "metadata": {},
     "output_type": "display_data"
    }
   ],
   "source": [
    "@app.callback(\n",
    "    Output('output','children'),\n",
    "    Input('textArea','value')\n",
    ")\n",
    "def example(input_object):\n",
    "    return html.H1(\"this is what you've typed in: \"+str(input_object))\n",
    "\n",
    "\n",
    "app.run_server(host=\"0.0.0.0\", port=9101)"
   ]
  },
  {
   "cell_type": "markdown",
   "id": "d2bf6b8d",
   "metadata": {},
   "source": [
    "### Check List"
   ]
  },
  {
   "cell_type": "code",
   "execution_count": 11,
   "id": "03453b8c",
   "metadata": {},
   "outputs": [],
   "source": [
    "### Check List ###\n",
    "app = dash.Dash()\n",
    "app.layout = html.Div([\n",
    "    dcc.Checklist(id='check_list',\n",
    "                  options=[{\"label\": name, \"value\": name} for name in ['New York City', 'Montréal', 'San Francisco']], \n",
    "                  value= ['Montréal', 'San Francisco'],\n",
    "                  labelStyle={\"display\": \"inline\"}),\n",
    "    html.Div(id='output')\n",
    "])"
   ]
  },
  {
   "cell_type": "code",
   "execution_count": 12,
   "id": "70cc3e29",
   "metadata": {},
   "outputs": [
    {
     "data": {
      "text/html": [
       "\n",
       "        <iframe\n",
       "            width=\"100%\"\n",
       "            height=\"650\"\n",
       "            src=\"http://0.0.0.0:9101/\"\n",
       "            frameborder=\"0\"\n",
       "            allowfullscreen\n",
       "            \n",
       "        ></iframe>\n",
       "        "
      ],
      "text/plain": [
       "<IPython.lib.display.IFrame at 0x1577c6910>"
      ]
     },
     "metadata": {},
     "output_type": "display_data"
    }
   ],
   "source": [
    "@app.callback(\n",
    "    Output('output','children'),\n",
    "    Input('check_list','value')\n",
    ")\n",
    "def example(input_object):\n",
    "    return html.H1(\"this is what you've checked: \"+str(input_object))\n",
    "\n",
    "\n",
    "app.run_server(host=\"0.0.0.0\", port=9101)"
   ]
  },
  {
   "cell_type": "markdown",
   "id": "589b71c4",
   "metadata": {},
   "source": [
    "### Radio Items"
   ]
  },
  {
   "cell_type": "code",
   "execution_count": 13,
   "id": "d6cfee55",
   "metadata": {},
   "outputs": [],
   "source": [
    "### Radio Items ###\n",
    "app = dash.Dash()\n",
    "app.layout = html.Div([\n",
    "    dcc.RadioItems(id='radioitem',\n",
    "                   options=[{\"label\": name, \"value\": name} for name in ['New York City', 'Montréal', 'San Francisco']],                \n",
    "                   value= ['Montréal', 'San Francisco'],\n",
    "                   labelStyle={\"display\": \"block\"}),\n",
    "    html.Div(id='output')\n",
    "])"
   ]
  },
  {
   "cell_type": "code",
   "execution_count": 14,
   "id": "55eb847b",
   "metadata": {},
   "outputs": [
    {
     "data": {
      "text/html": [
       "\n",
       "        <iframe\n",
       "            width=\"100%\"\n",
       "            height=\"650\"\n",
       "            src=\"http://0.0.0.0:9101/\"\n",
       "            frameborder=\"0\"\n",
       "            allowfullscreen\n",
       "            \n",
       "        ></iframe>\n",
       "        "
      ],
      "text/plain": [
       "<IPython.lib.display.IFrame at 0x1577cf190>"
      ]
     },
     "metadata": {},
     "output_type": "display_data"
    }
   ],
   "source": [
    "@app.callback(\n",
    "    Output('output','children'),\n",
    "    Input('radioitem','value')\n",
    ")\n",
    "def example(input_object):\n",
    "    return html.H1(\"this is what you've checked: \"+str(input_object))\n",
    "\n",
    "\n",
    "app.run_server(host=\"0.0.0.0\", port=9101)"
   ]
  },
  {
   "cell_type": "markdown",
   "id": "90d393bc",
   "metadata": {},
   "source": [
    "### Button"
   ]
  },
  {
   "cell_type": "code",
   "execution_count": 15,
   "id": "f896f8cf",
   "metadata": {},
   "outputs": [],
   "source": [
    "### Button ###\n",
    "app = dash.Dash()\n",
    "app.layout = html.Div([\n",
    "    html.Button(id='button', children=['This is Button']),    \n",
    "    html.Div(id='output')\n",
    "])"
   ]
  },
  {
   "cell_type": "code",
   "execution_count": 16,
   "id": "67dd8ca9",
   "metadata": {},
   "outputs": [
    {
     "data": {
      "text/html": [
       "\n",
       "        <iframe\n",
       "            width=\"100%\"\n",
       "            height=\"650\"\n",
       "            src=\"http://0.0.0.0:9101/\"\n",
       "            frameborder=\"0\"\n",
       "            allowfullscreen\n",
       "            \n",
       "        ></iframe>\n",
       "        "
      ],
      "text/plain": [
       "<IPython.lib.display.IFrame at 0x1577dec10>"
      ]
     },
     "metadata": {},
     "output_type": "display_data"
    }
   ],
   "source": [
    "@app.callback(\n",
    "    Output('output','children'),\n",
    "    Input('button','n_clicks')\n",
    ")\n",
    "def example(input_object):\n",
    "    return html.H1(\"You clicked the button \"+str(input_object)+\" times.\")\n",
    "\n",
    "\n",
    "app.run_server(host=\"0.0.0.0\", port=9101)"
   ]
  }
 ],
 "metadata": {
  "kernelspec": {
   "display_name": "Python 3.8.19 ('MLOps')",
   "language": "python",
   "name": "python3"
  },
  "language_info": {
   "codemirror_mode": {
    "name": "ipython",
    "version": 3
   },
   "file_extension": ".py",
   "mimetype": "text/x-python",
   "name": "python",
   "nbconvert_exporter": "python",
   "pygments_lexer": "ipython3",
   "version": "3.8.19"
  },
  "vscode": {
   "interpreter": {
    "hash": "2f13aeb8b86fde212a377ec607eb85d0f8352caef77bf26b53c436968f93b1cb"
   }
  }
 },
 "nbformat": 4,
 "nbformat_minor": 5
}
