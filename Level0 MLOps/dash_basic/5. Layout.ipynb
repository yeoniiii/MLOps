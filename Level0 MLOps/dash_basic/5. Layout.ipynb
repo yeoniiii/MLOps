{
 "cells": [
  {
   "cell_type": "code",
   "execution_count": null,
   "id": "d03b8590",
   "metadata": {},
   "outputs": [],
   "source": [
    "import dash\n",
    "from dash import html\n",
    "from dash import dash_table\n",
    "from dash import dcc\n",
    "from dash.dependencies import Input, Output\n",
    "\n",
    "import pandas as pd\n",
    "import numpy as np\n",
    "\n",
    "import plotly.express as px"
   ]
  },
  {
   "cell_type": "markdown",
   "id": "a8c513b1",
   "metadata": {},
   "source": [
    "### 예제 데이터 생성"
   ]
  },
  {
   "cell_type": "code",
   "execution_count": null,
   "id": "4cc644dd",
   "metadata": {},
   "outputs": [],
   "source": [
    "### 예제 데이터 생성 ###\n",
    "n = 100\n",
    "dat = pd.DataFrame()\n",
    "dat['x1'] = np.random.normal(0,1,n)\n",
    "dat['x2'] = np.random.normal(0,1,n)\n",
    "dat['x3'] = [str(i) for i in np.random.randint(0,4,size=n)]\n",
    "dat['x4'] = [str(i) for i in np.random.randint(1,10,size=n)]"
   ]
  },
  {
   "cell_type": "code",
   "execution_count": null,
   "id": "78481609",
   "metadata": {},
   "outputs": [],
   "source": [
    "fig = px.scatter(dat, x='x1',y='x2')"
   ]
  },
  {
   "cell_type": "markdown",
   "id": "1f593cfe",
   "metadata": {},
   "source": [
    "### 세로 구분"
   ]
  },
  {
   "cell_type": "code",
   "execution_count": null,
   "id": "ea555d71",
   "metadata": {},
   "outputs": [],
   "source": [
    "app = dash.Dash()\n",
    "app.layout = html.Div([\n",
    "    html.Label('label1'),\n",
    "    dcc.Graph(figure=fig),\n",
    "    html.Br(),\n",
    "    html.Label('label2'),\n",
    "    dcc.Graph(figure=fig),\n",
    "    html.Br(),\n",
    "    html.Label('label3'),\n",
    "    dcc.Graph(figure=fig),\n",
    "])\n",
    "app.run_server(host=\"0.0.0.0\", port=9101)"
   ]
  },
  {
   "cell_type": "markdown",
   "id": "00723818",
   "metadata": {},
   "source": [
    "### 가로 구분 - inline-block"
   ]
  },
  {
   "cell_type": "code",
   "execution_count": null,
   "id": "b94e6a91",
   "metadata": {},
   "outputs": [],
   "source": [
    "app = dash.Dash()\n",
    "app.layout = html.Div([\n",
    "    html.Div('line1'),\n",
    "    html.Br(),\n",
    "    html.Div('line2-obj1', style={'display':'inline-block'}),\n",
    "    html.Div('line2-obj2', style={'display':'inline-block'}),\n",
    "    html.Br(),\n",
    "    html.Br(),\n",
    "    html.Div('line3')\n",
    "])\n",
    "app.run_server(host=\"0.0.0.0\", port=9101)"
   ]
  },
  {
   "cell_type": "markdown",
   "id": "eaa0e184",
   "metadata": {},
   "source": [
    "### 가로 구분 - flex"
   ]
  },
  {
   "cell_type": "code",
   "execution_count": null,
   "id": "c61211c2",
   "metadata": {},
   "outputs": [],
   "source": [
    "app = dash.Dash()\n",
    "app.layout = html.Div([\n",
    "    dcc.Graph(figure=fig, style={'flex':'1'}),\n",
    "    dcc.Graph(figure=fig, style={'flex':'1'}),\n",
    "    dcc.Graph(figure=fig, style={'flex':'1'}),\n",
    "],    style={'display': 'flex','flex-direction': 'row' })\n",
    "\n",
    "app.run_server(host=\"0.0.0.0\", port=9101)"
   ]
  },
  {
   "cell_type": "markdown",
   "id": "47a2cd3c",
   "metadata": {},
   "source": [
    "### 가로세로 통합"
   ]
  },
  {
   "cell_type": "code",
   "execution_count": null,
   "id": "e607d235",
   "metadata": {},
   "outputs": [],
   "source": [
    "app = dash.Dash()\n",
    "app.layout = html.Div([\n",
    "    \n",
    "    html.Div([\n",
    "        dcc.Graph(figure=fig)\n",
    "    ]),\n",
    "    \n",
    "    \n",
    "    html.Div([\n",
    "        dcc.Graph(figure=fig, style={'flex':'1'}),\n",
    "        dcc.Graph(figure=fig, style={'flex':'1'}),\n",
    "        dcc.Graph(figure=fig, style={'flex':'1'}),\n",
    "    ], style={'display': 'flex','flex-direction': 'row' }),\n",
    "    \n",
    "    \n",
    "    html.Div([\n",
    "        dcc.Graph(figure=fig, style={'flex':'1'}),\n",
    "        dcc.Graph(figure=fig, style={'flex':'1'}),\n",
    "    ], style={'display': 'flex','flex-direction': 'row' })\n",
    "    \n",
    "])\n",
    "\n",
    "app.run_server(host=\"0.0.0.0\", port=9101)"
   ]
  },
  {
   "cell_type": "markdown",
   "id": "833c9171",
   "metadata": {},
   "source": [
    "### 다단"
   ]
  },
  {
   "cell_type": "code",
   "execution_count": null,
   "id": "63c39fe4",
   "metadata": {},
   "outputs": [],
   "source": [
    "app = dash.Dash()\n",
    "app.layout = html.Div([\n",
    "    html.Div([\n",
    "        html.Label('Dropdown'),\n",
    "        dcc.Dropdown(options=[{'label':name, 'value':name} for name in ['New York City', 'Montréal', 'San Francisco']], \n",
    "                     value='Montréal'),\n",
    "        \n",
    "        html.Br(),\n",
    "        html.Label('Multi-Select Dropdown'),\n",
    "        dcc.Dropdown(options=[{'label':name, 'value':name} for name in ['New York City', 'Montréal', 'San Francisco']],\n",
    "                     value=['Montréal', 'San Francisco'],\n",
    "                     multi=True),\n",
    "\n",
    "        html.Br(),\n",
    "        html.Label('Radio Items'),\n",
    "        dcc.RadioItems(options=[{'label':name, 'value':name} for name in ['New York City', 'Montréal', 'San Francisco']], \n",
    "                       value='Montréal'),\n",
    "        \n",
    "        \n",
    "        dcc.Graph(figure=fig),\n",
    "        dcc.Graph(figure=fig),\n",
    "        \n",
    "    ], style={'padding': 10, 'flex': 1}),\n",
    "\n",
    "    \n",
    "    \n",
    "    \n",
    "    \n",
    "    html.Div([\n",
    "        html.Label('Checkboxes'),\n",
    "        dcc.Checklist(options=[{'label':name, 'value':name} for name in ['New York City', 'Montréal', 'San Francisco']],\n",
    "                      value=['Montréal', 'San Francisco']\n",
    "        ),\n",
    "\n",
    "        html.Br(),\n",
    "        html.Label('Text Input'),\n",
    "        dcc.Input(value='MTL', type='text'),\n",
    "\n",
    "        html.Br(),\n",
    "        html.Label('Slider'),\n",
    "        dcc.Slider(\n",
    "            min=0,\n",
    "            max=9,\n",
    "            step=1,\n",
    "            marks={i: f'Label {i}' if i == 1 else str(i) for i in range(0, 10)},\n",
    "            value=5,\n",
    "        ),\n",
    "        \n",
    "        \n",
    "        \n",
    "        html.Div([\n",
    "            dcc.Graph(figure=fig,style={'flex':'1'}),\n",
    "            dcc.Graph(figure=fig,style={'flex':'1'}),\n",
    "        ],style={'display':'flex','flex-direction':'row'}),\n",
    "        \n",
    "        \n",
    "        \n",
    "        html.Div([\n",
    "            dcc.Graph(figure=fig,style={'flex':'1'}),\n",
    "            dcc.Graph(figure=fig,style={'flex':'1'}),\n",
    "            dcc.Graph(figure=fig,style={'flex':'1'}),\n",
    "        ],style={'display':'flex','flex-direction':'row'})\n",
    "        \n",
    "        \n",
    "        \n",
    "    ], style={'padding': 10, 'flex': 1}),\n",
    "    \n",
    "    \n",
    "], style={'display': 'flex','flex-direction': 'row' })\n",
    "\n",
    "app.run_server(host=\"0.0.0.0\", port=9101)"
   ]
  },
  {
   "cell_type": "code",
   "execution_count": null,
   "id": "6e625e03",
   "metadata": {},
   "outputs": [],
   "source": [
    "#     html.Div(children=['line1'    ], style={'padding': 10, 'flex': 1}),\n",
    "#     html.Div(children=['line2'    ], style={'padding': 10, 'flex': 1}),"
   ]
  }
 ],
 "metadata": {
  "kernelspec": {
   "display_name": "Python 3.8.19 ('MLOps')",
   "language": "python",
   "name": "python3"
  },
  "language_info": {
   "codemirror_mode": {
    "name": "ipython",
    "version": 3
   },
   "file_extension": ".py",
   "mimetype": "text/x-python",
   "name": "python",
   "nbconvert_exporter": "python",
   "pygments_lexer": "ipython3",
   "version": "3.8.19"
  },
  "vscode": {
   "interpreter": {
    "hash": "2f13aeb8b86fde212a377ec607eb85d0f8352caef77bf26b53c436968f93b1cb"
   }
  }
 },
 "nbformat": 4,
 "nbformat_minor": 5
}
