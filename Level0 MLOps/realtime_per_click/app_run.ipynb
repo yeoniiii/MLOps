{
 "cells": [
  {
   "cell_type": "code",
   "execution_count": null,
   "id": "11607a4d-0d09-4f9f-a6d6-1bc291b8fd42",
   "metadata": {},
   "outputs": [],
   "source": [
    "import dash\n",
    "from dash.dependencies import Input, Output, State\n",
    "import plotly.express as px\n",
    "import plotly.graph_objects as go\n",
    "\n",
    "import app_layout as al\n",
    "import mylib as my\n",
    "\n",
    "import inference as infr\n",
    "\n",
    "import pandas as pd\n",
    "import numpy as np\n",
    "import sys, os\n",
    "import datetime\n",
    "import pickle as pkl"
   ]
  },
  {
   "cell_type": "code",
   "execution_count": null,
   "id": "cc29dd7c-c98f-40b7-96c4-269a67e425d7",
   "metadata": {},
   "outputs": [],
   "source": [
    "items = ['button1','time1', 'pred1', 'graph1', 'table1']\n",
    "model = pkl.load(open(\"model.pkl\",\"rb\"))\n",
    "trans = pkl.load(open(\"transform.pkl\",\"rb\"))"
   ]
  },
  {
   "cell_type": "code",
   "execution_count": null,
   "id": "07da3bea-117c-46e2-a4ec-7bb76bc2a478",
   "metadata": {},
   "outputs": [],
   "source": [
    "app = dash.Dash()\n",
    "app.layout =  al.app_layout(items)"
   ]
  },
  {
   "cell_type": "code",
   "execution_count": null,
   "id": "b2616fff-0d62-4787-9a7d-97c07f81b32a",
   "metadata": {},
   "outputs": [],
   "source": [
    "@app.callback(\n",
    "    Output('time1','children'),\n",
    "    Output('table1','data'),\n",
    "    Output('pred1', 'children'),\n",
    "    Output('graph1', 'figure'),\n",
    "    Input('button1','n_clicks'),\n",
    "    prevent_initial_call=False,\n",
    ")\n",
    "def fn(n_clicks): \n",
    "    \n",
    "    tt = str(datetime.datetime.now())\n",
    "    \n",
    "    df = my.db_to_df_random(db_name='steel.db', table_name='test')\n",
    "    pred, x_cols = infr.inference(trans, model, df)\n",
    "    \n",
    "    pred_df = pd.DataFrame(data=pred, columns=[\"pred\"])\n",
    "    my.df_to_db(df[x_cols], \"operation.db\", \"input_x\")\n",
    "    my.df_to_db(pred_df, \"operation.db\",\"pred\")\n",
    "    \n",
    "    print_df = my.db_to_df(\"operation.db\",\"input_x\")\n",
    "    pred_history = my.db_to_df(\"operation.db\",\"pred\")\n",
    "\n",
    "    fig=px.line(x=pred_history.index.tolist(), y=pd.to_numeric(pred_history['pred']))\n",
    "    out=print_df.to_dict('records')\n",
    "    \n",
    "    return tt, out, pred, fig"
   ]
  },
  {
   "cell_type": "code",
   "execution_count": null,
   "id": "91be5d1a-80d3-483d-b2ac-e6d6a40df179",
   "metadata": {},
   "outputs": [],
   "source": [
    "app.run_server(host=\"0.0.0.0\", port=9101) "
   ]
  }
 ],
 "metadata": {
  "kernelspec": {
   "display_name": "Python 3",
   "language": "python",
   "name": "python3"
  },
  "language_info": {
   "codemirror_mode": {
    "name": "ipython",
    "version": 3
   },
   "file_extension": ".py",
   "mimetype": "text/x-python",
   "name": "python",
   "nbconvert_exporter": "python",
   "pygments_lexer": "ipython3",
   "version": "3.9.17"
  }
 },
 "nbformat": 4,
 "nbformat_minor": 5
}
